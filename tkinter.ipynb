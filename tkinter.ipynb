{
 "cells": [
  {
   "cell_type": "code",
   "execution_count": null,
   "metadata": {},
   "outputs": [],
   "source": [
    "!pip install tk"
   ]
  },
  {
   "cell_type": "code",
   "execution_count": 2,
   "metadata": {},
   "outputs": [],
   "source": [
    "from __future__ import print_function\n",
    "from tkcalendar import DateEntry\n",
    "from PIL import Image\n",
    "from PIL import ImageTk\n",
    "from tkinter import *\n",
    "import threading\n",
    "import datetime\n",
    "import imutils\n",
    "import cv2\n",
    "import os"
   ]
  },
  {
   "cell_type": "code",
   "execution_count": 44,
   "metadata": {},
   "outputs": [],
   "source": [
    "master = Tk()\n",
    "\n",
    "canvas = Canvas(master, height=450, width=750)\n",
    "canvas.pack()\n",
    "\n",
    "frame_ust = Frame(master, bg='#add8e6')\n",
    "frame_ust.place(relx=0.1, rely=0.1, relwidth=0.8, relheight=0.1)\n",
    "\n",
    "frame_alt_sol = Frame(master, bg='#add8e6')\n",
    "frame_alt_sol.place(relx=0.1, rely=0.21, relwidth=0.23, relheight=0.5)\n",
    "\n",
    "frame_alt_sag = Frame(master, bg='#add8e6')\n",
    "frame_alt_sag.place(relx=0.34, rely=0.21, relwidth=0.56, relheight=0.5)\n",
    "\n",
    "hatirlatma_tipi_etiket = Label(frame_ust, bg=\"#add8e6\", text=\"Hatirlatma tipi: \",\n",
    "                               font=\"Verdana 12 bold\")\n",
    "hatirlatma_tipi_etiket.pack(padx=10, pady=10, side=LEFT)\n",
    "\n",
    "hatirlatma_tipi_opsiyon = StringVar(frame_ust)\n",
    "hatirlatma_tipi_opsiyon.set(\"\\t\")\n",
    "hatirlatma_tipi_acilir_menu = OptionMenu(\n",
    "    frame_ust,\n",
    "    hatirlatma_tipi_opsiyon,\n",
    "    \"Dogum günü\",\n",
    "    \"Alisveris\",\n",
    "    \"Ödeme\")\n",
    "hatirlatma_tipi_acilir_menu.pack(padx=10, pady=10, side=LEFT)\n",
    "\n",
    "\n",
    "hatirlatma_tarih_secici = DateEntry(frame_ust, width=12, background='orange', foreground='black', borderwidth=1, locale=\"de_DE\")\n",
    "hatirlatma_tarih_secici._top_cal.overrideredirect(False)\n",
    "hatirlatma_tarih_secici.pack(padx=10, pady=10, side=RIGHT)\n",
    "\n",
    "hatirlatma_tarihi_etiket = Label(frame_ust, bg=\"#add8e6\", text=\"Hatirlatma tarihi: \", font=\"Verdana 12 bold\")\n",
    "hatirlatma_tarihi_etiket.pack(padx=10, pady=10, side=RIGHT)\n",
    "\n",
    "\n",
    "# part 2\n",
    "Label(frame_alt_sol, text=\"Hatirlatma Yönetmi\", bg='#add8e6',font=\"Verdana 10 bold\").pack(padx=10,pady=10, anchor=NW)\n",
    "\n",
    "var = IntVar()\n",
    "\n",
    "R1 = Radiobutton(frame_alt_sol, text=\"sisteme kaydet\", variable=var, value=1, bg=\"#add8e6\", font=\"Verdana 10\")\n",
    "R1.pack(anchor=NW, pady=5, padx=15)\n",
    "\n",
    "R2 = Radiobutton(frame_alt_sol, text=\"e posta gönder\", variable=var, value=2, bg=\"#add8e6\", font=\"Verdana 10\")\n",
    "R2.pack(anchor=NW, pady=5, padx=15)\n",
    "\n",
    "\n",
    "var1 = IntVar()\n",
    "C1 = Checkbutton(frame_alt_sol, text=\"bir hafta önce\", variable=var1, onvalue=1, offvalue=0, bg=\"#add8e6\", font=\"Verdana 10\")\n",
    "C1.pack(anchor=NW, pady=5, padx=25)\n",
    "\n",
    "var2 = IntVar()\n",
    "C2 = Checkbutton(frame_alt_sol, text=\"bir gün önce\", variable=var2, onvalue=1, offvalue=0, bg=\"#add8e6\", font=\"Verdana 10\")\n",
    "C2.pack(anchor=NW, pady=5, padx=25)\n",
    "\n",
    "var3 = IntVar()\n",
    "C3 = Checkbutton(frame_alt_sol, text=\"ayni gün\", variable=var3, onvalue=1, offvalue=0, bg=\"#add8e6\", font=\"Verdana 10\")\n",
    "C3.pack(anchor=NW, pady=5, padx=25)\n",
    "\n",
    "master.mainloop()"
   ]
  },
  {
   "cell_type": "markdown",
   "metadata": {},
   "source": [
    "---"
   ]
  },
  {
   "cell_type": "code",
   "execution_count": 66,
   "metadata": {},
   "outputs": [],
   "source": [
    "import tkinter as tk\n",
    "import cv2\n",
    "\n",
    "counter = 0"
   ]
  },
  {
   "cell_type": "code",
   "execution_count": 68,
   "metadata": {},
   "outputs": [],
   "source": [
    "window = tk.Tk()\n",
    "window.configure(background=\"#325288\", width=800, height=400)\n",
    "window.title(\"Sport With AI\")\n",
    "\n",
    "top_frame = Frame(window, bg='#325288')\n",
    "top_frame.place(relx=0, rely=0, relwidth=1, relheight=0.2) \n",
    "title = Label(top_frame, bg=\"#325288\", fg=\"#ffffff\", text=\"Sport With AI\", font=\"Verdana 18 bold\")\n",
    "title.pack(padx=10, pady=10)\n",
    "counter = 1\n",
    "\n",
    "left_frame = Frame(window, bg='#add8e6')\n",
    "left_frame.place(relx=0.05, rely=0.2, relwidth=0.3, relheight=0.1)\n",
    "\n",
    "push_up_text = Label(left_frame, bg=\"#add8e6\", fg=\"#325288\", text=str(counter), font=\"Verdana 12 bold\")\n",
    "push_up_text.pack(padx=10, pady=10)\n",
    "\n",
    "window.mainloop()"
   ]
  },
  {
   "cell_type": "code",
   "execution_count": 5,
   "metadata": {},
   "outputs": [],
   "source": [
    "import PIL\n",
    "from PIL import Image,ImageTk\n",
    "import pytesseract\n",
    "import cv2\n",
    "from tkinter import *\n",
    "width, height = 800, 600\n",
    "\n",
    "\n",
    "cap = cv2.VideoCapture(0)\n",
    "cap.set(cv2.CAP_PROP_FRAME_WIDTH, width)\n",
    "cap.set(cv2.CAP_PROP_FRAME_HEIGHT, height)\n",
    "\n",
    "root = Tk()\n",
    "root.bind('<Escape>', lambda e: root.quit())\n",
    "lmain = Label(root)\n",
    "lmain.pack()\n",
    "\n",
    "def show_frame():\n",
    "    _, frame = cap.read()\n",
    "    frame = cv2.flip(frame, 1)\n",
    "    cv2image = cv2.cvtColor(frame, cv2.COLOR_BGR2RGBA)\n",
    "    img = PIL.Image.fromarray(cv2image)\n",
    "    imgtk = ImageTk.PhotoImage(image=img)\n",
    "    lmain.imgtk = imgtk\n",
    "    lmain.configure(image=imgtk)\n",
    "    lmain.after(10, show_frame)\n",
    "\n",
    "show_frame()\n",
    "root.mainloop()"
   ]
  },
  {
   "cell_type": "code",
   "execution_count": null,
   "metadata": {},
   "outputs": [],
   "source": []
  }
 ],
 "metadata": {
  "kernelspec": {
   "display_name": "Python 3",
   "language": "python",
   "name": "python3"
  },
  "language_info": {
   "codemirror_mode": {
    "name": "ipython",
    "version": 3
   },
   "file_extension": ".py",
   "mimetype": "text/x-python",
   "name": "python",
   "nbconvert_exporter": "python",
   "pygments_lexer": "ipython3",
   "version": "3.7.2"
  }
 },
 "nbformat": 4,
 "nbformat_minor": 4
}
